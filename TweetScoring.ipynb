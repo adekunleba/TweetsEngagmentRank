{
 "cells": [
  {
   "cell_type": "markdown",
   "metadata": {},
   "source": [
    "TODO:\n",
    "- Read in Json Tweets and extract informations as possible concerning Tweets\n",
    "- Create a table from tweet Information\n",
    "- Use the information to do a cluster analysis\n",
    "- Handcode a score for the tweets\n",
    "\n",
    "TODO:\n",
    "- (Personal)The issue with incoming tweets is that given they don't have a retweet count and favorite count just yet so we can say _given the word of a tweets predicts it's engagement score_\n",
    "- (For Project)It's a ranking score kind of tweets, we have those scores just available, we need not the words of the tweet, we only need the characteristics so far to predict it's score - what they can do with this is, for a particular tweets with high engagement score, they can check out _who tweeted it_, _words in the tweet_, _time of tweet_ and co"
   ]
  },
  {
   "cell_type": "code",
   "execution_count": 13,
   "metadata": {},
   "outputs": [],
   "source": [
    "import os\n",
    "import json"
   ]
  },
  {
   "cell_type": "code",
   "execution_count": 14,
   "metadata": {},
   "outputs": [],
   "source": [
    "#Using list comprehension to read twitter kind of json dictionaries\n",
    "\n",
    "monolith = [json.loads(line) for line in open(\"YuvalProject/monolith/#monolith_2017-11-27_to_2017-11-29.json\", 'r')]\n",
    "amazon = [json.loads(line) for line in open(\"YuvalProject/amazon/#amazon_2017-11-27_to_2017-11-29.json\", 'r')]\n",
    "beyonce =  [json.loads(line) for line in open(\"YuvalProject/beyonce/#beyonce_2017-11-27_to_2017-11-29.json\", 'r')]\n",
    "bitcoin = [json.loads(line) for line in open(\"YuvalProject/bitcoin/bitcoin_2017-11-24.json\", 'r')]\n",
    "#deepL = [json.loads(line) for line in open(\"YuvalProject/deeplearning/#deeplearning_2017-11-27_to_2017-11-29.json\", 'r')]\n",
    "kimk = [json.loads(line) for line in open(\"YuvalProject/kimk/#kimkardashian_2017-11-27_to_2017-11-29.json\", 'r')]\n",
    "sexist = [json.loads(line) for line in open(\"YuvalProject/sexist/sexist_2017-11-27_to_2017-11-29.json\", 'r')]\n",
    "trump = [json.loads(line) for line in open(\"YuvalProject/trump/trump_2017-11-27_to_2017-11-29.json\", 'r')]\n",
    "uber = [json.loads(line) for line in open(\"YuvalProject/uber/uber_2017-11-24.json\", 'r')]"
   ]
  },
  {
   "cell_type": "code",
   "execution_count": 15,
   "metadata": {},
   "outputs": [],
   "source": [
    "beyonceB = [json.loads(line) for line in open(\"YuvalProject/beyonce/beyonce_2017-11-28_to_2017-11-30.json\", 'r')]\n",
    "kardashian = [json.loads(line) for line in open(\"YuvalProject/kardashian/kardashian_2017-11-28_to_2017-11-30.json\", 'r')]"
   ]
  },
  {
   "cell_type": "code",
   "execution_count": 16,
   "metadata": {},
   "outputs": [
    {
     "data": {
      "text/plain": [
       "dict_keys(['created_at', 'id', 'id_str', 'text', 'truncated', 'entities', 'metadata', 'source', 'in_reply_to_status_id', 'in_reply_to_status_id_str', 'in_reply_to_user_id', 'in_reply_to_user_id_str', 'in_reply_to_screen_name', 'user', 'geo', 'coordinates', 'place', 'contributors', 'retweeted_status', 'is_quote_status', 'retweet_count', 'favorite_count', 'favorited', 'retweeted', 'lang'])"
      ]
     },
     "execution_count": 16,
     "metadata": {},
     "output_type": "execute_result"
    }
   ],
   "source": [
    "kardashian[10].keys()"
   ]
  },
  {
   "cell_type": "code",
   "execution_count": 17,
   "metadata": {},
   "outputs": [
    {
     "data": {
      "text/plain": [
       "{'hashtags': [],\n",
       " 'symbols': [],\n",
       " 'urls': [],\n",
       " 'user_mentions': [{'id': 30416742,\n",
       "   'id_str': '30416742',\n",
       "   'indices': [3, 19],\n",
       "   'name': 'Savannah \"Stream & buy Miss You you shits\" Seymour',\n",
       "   'screen_name': 'savannahseymour'}]}"
      ]
     },
     "execution_count": 17,
     "metadata": {},
     "output_type": "execute_result"
    }
   ],
   "source": [
    "beyonceB[2]['entities']"
   ]
  },
  {
   "cell_type": "code",
   "execution_count": 66,
   "metadata": {},
   "outputs": [
    {
     "data": {
      "text/plain": [
       "11977"
      ]
     },
     "execution_count": 66,
     "metadata": {},
     "output_type": "execute_result"
    }
   ],
   "source": [
    "len(kardashian)"
   ]
  },
  {
   "cell_type": "code",
   "execution_count": 2,
   "metadata": {},
   "outputs": [],
   "source": [
    "Rihanna = [json.loads(line) for line in open(\"YuvalProject/Rihanna/Rihanna_2017-11-28_to_2017-11-30.json\", 'r')]"
   ]
  },
  {
   "cell_type": "code",
   "execution_count": 11,
   "metadata": {},
   "outputs": [
    {
     "data": {
      "text/plain": [
       "'@rihanna Please fill out this survey &amp; DM it back completed, thank you &amp; i love you ❤️ https://t.co/fnIQHivkTD'"
      ]
     },
     "execution_count": 11,
     "metadata": {},
     "output_type": "execute_result"
    }
   ],
   "source": [
    "Rihanna[8]['text']"
   ]
  },
  {
   "cell_type": "code",
   "execution_count": null,
   "metadata": {},
   "outputs": [],
   "source": []
  }
 ],
 "metadata": {
  "kernelspec": {
   "display_name": "Python 3",
   "language": "python",
   "name": "python3"
  },
  "language_info": {
   "codemirror_mode": {
    "name": "ipython",
    "version": 3
   },
   "file_extension": ".py",
   "mimetype": "text/x-python",
   "name": "python",
   "nbconvert_exporter": "python",
   "pygments_lexer": "ipython3",
   "version": "3.6.3"
  }
 },
 "nbformat": 4,
 "nbformat_minor": 2
}
